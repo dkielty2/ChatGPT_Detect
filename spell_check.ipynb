{
 "cells": [
  {
   "cell_type": "markdown",
   "id": "ccfa54d5",
   "metadata": {},
   "source": [
    "## Spell Checking\n",
    "\n",
    "In this notebook we construct a data frame consisting of essays and the number of spelling errors detected in them.\n",
    "\n",
    "To analyse the words in our essays we will need to clean the text. This will consist of expanding contractions, removing non-letter and non-number symbols, and making the text lowercase.\n",
    "\n",
    "We compare the words in the essays with words from a list of 125k most common English words.\n",
    "\n",
    "The code below is the same as Derek's (essay topic analysis). What it does is it imports each text file from our data set as a string into a text_list using the os module, and then reads off the first entry."
   ]
  },
  {
   "cell_type": "code",
   "execution_count": 1,
   "id": "2093df2b",
   "metadata": {},
   "outputs": [],
   "source": [
    "import os\n",
    "\n",
    "folder_path = 'small test'\n",
    "\n",
    "file_list = [file for file in os.listdir(folder_path) if os.path.isfile(os.path.join(folder_path, file))]\n",
    "file_list.sort() \n",
    "# os.listdir() returns the file list in random(ish) order. Sort to standardize.\n",
    "\n",
    "text_list =[]\n",
    "\n",
    "for file_name in file_list:\n",
    "    file_path = os.path.join(folder_path, file_name)\n",
    "    with open(file_path, 'r', encoding='utf-8') as file:\n",
    "        text = file.read()\n",
    "        text_list.append(text)"
   ]
  },
  {
   "cell_type": "code",
   "execution_count": 2,
   "id": "174c5643",
   "metadata": {},
   "outputs": [
    {
     "data": {
      "text/plain": [
       "\"Driverless cars are exaclty what you would expect them to be. Cars that will drive without a person actually behind the wheel controlling the actions of the vehicle. The idea of driverless cars going in to developement shows the amount of technological increase that the wolrd has made. The leader of this idea of driverless cars are the automobiles they call Google cars. The arduous task of creating safe driverless cars has not been fully mastered yet. The developement of these cars should be stopped immediately because there are too many hazardous and dangerous events that could occur.\\n\\nOne thing that the article mentions is that the driver will be alerted when they will need to take over the driving responsibilites of the car. This is such a dangerous thing because we all know that whenever humans get their attention drawn in on something interesting it is hard to draw their focus somewhere else. The article explains that companies are trying to implement vibrations when the car is in trouble. Their are some people out there who do not feel vibrations and therefore would not be able to take control of the car when needed. The article also states that companies are trying to put in-car entertainment into the car while it is being driven. This is just another thing that will distract the person who is supposed to be ready at all times to take over driving when asked to do so.\\n\\nAnother thing that can go wrong with these cars is any type of techological malfucntion. Every person with any kind of technological device has experienced some sort of error. Now imagine if your car has an error technologically and it takes the life of one your loved ones. The article talks about sensors around the car that read the surroundings of the car and that is what helps he car to drive without a true driver behind the wheel. Those sensors could have a malfunctions and be sensing something that is that even there and make a left turn into a 100 foot deep lake. The vibrations that cause the driver to be notified to drive could malfunction and now the driver has no way of knowing that the car is in trouble and now you, the driver, and the rest of your passengers are being buried in your local cemetery.\\n\\nOne last thing that the article mentions is negative about the developement of driverless cars is who to blame for the wreck if there were possibly some sort of technological malfunciton or even some sort of human error when taking over the driving aspect. Should the manufacturer of the car be blamed or should it be the driver? No one knows because there is so many different factors that attribute to who to assign the blame to. Some of what will have to be made is a judgement call. When it comes to insurance and having to pay for any damages you do not want someone to have to make some sort of judgement call. What if that judgement call that was made was the wrong call? Now there are going to be even more lawsuits today in our courts than there already are. This problem alone will just lead to many more issues today in the world that should not have to be dealt with.\\n\\nWith all these things that could possibly go wrong with these driverless cars there is no way that the developement of them should continue any further. In today's society if something bad COULD happen or something COULD go wrong, it WILL happen, and it WILL go wrong. There are just way too many safety hazards that come along with these driverless cars. Becuase of all of these problems that arise with the cars it is just a gargantuan risk to implement these cars into our lifestyles. \""
      ]
     },
     "execution_count": 2,
     "metadata": {},
     "output_type": "execute_result"
    }
   ],
   "source": [
    "text_list[1]"
   ]
  },
  {
   "cell_type": "markdown",
   "id": "37f9069e",
   "metadata": {},
   "source": [
    "We now expand contractions from words. For example, we replace \"don't\" with \"do not\".\n",
    "\n",
    "The code below installs a contractions package found online.\n",
    "\n",
    "After that we create a list \"text_no_contr\" which contains essays with expanded contractions."
   ]
  },
  {
   "cell_type": "code",
   "execution_count": 3,
   "id": "b0b727d3",
   "metadata": {},
   "outputs": [
    {
     "name": "stdout",
     "output_type": "stream",
     "text": [
      "Requirement already satisfied: contractions in c:\\users\\s1557452\\appdata\\local\\anaconda3\\lib\\site-packages (0.1.73)\n",
      "Requirement already satisfied: textsearch>=0.0.21 in c:\\users\\s1557452\\appdata\\local\\anaconda3\\lib\\site-packages (from contractions) (0.0.24)\n",
      "Requirement already satisfied: anyascii in c:\\users\\s1557452\\appdata\\local\\anaconda3\\lib\\site-packages (from textsearch>=0.0.21->contractions) (0.3.2)\n",
      "Requirement already satisfied: pyahocorasick in c:\\users\\s1557452\\appdata\\local\\anaconda3\\lib\\site-packages (from textsearch>=0.0.21->contractions) (2.0.0)\n"
     ]
    }
   ],
   "source": [
    "import sys  \n",
    "!{sys.executable} -m pip install contractions"
   ]
  },
  {
   "cell_type": "code",
   "execution_count": 4,
   "id": "a5a03fdf",
   "metadata": {},
   "outputs": [],
   "source": [
    "import contractions\n",
    "text_no_contr = [contractions.fix(text) for text in text_list]\n"
   ]
  },
  {
   "cell_type": "code",
   "execution_count": 5,
   "id": "c3f722f1",
   "metadata": {},
   "outputs": [
    {
     "name": "stdout",
     "output_type": "stream",
     "text": [
      "Driverless cars are exaclty what you would expect them to be. Cars that will drive without a person actually behind the wheel controlling the actions of the vehicle. The idea of driverless cars going in to developement shows the amount of technological increase that the wolrd has made. The leader of this idea of driverless cars are the automobiles they call Google cars. The arduous task of creating safe driverless cars has not been fully mastered yet. The developement of these cars should be stopped immediately because there are too many hazardous and dangerous events that could occur.\n",
      "\n",
      "One thing that the article mentions is that the driver will be alerted when they will need to take over the driving responsibilites of the car. This is such a dangerous thing because we all know that whenever humans get their attention drawn in on something interesting it is hard to draw their focus somewhere else. The article explains that companies are trying to implement vibrations when the car is in trouble. Their are some people out there who do not feel vibrations and therefore would not be able to take control of the car when needed. The article also states that companies are trying to put in-car entertainment into the car while it is being driven. This is just another thing that will distract the person who is supposed to be ready at all times to take over driving when asked to do so.\n",
      "\n",
      "Another thing that can go wrong with these cars is any type of techological malfucntion. Every person with any kind of technological device has experienced some sort of error. Now imagine if your car has an error technologically and it takes the life of one your loved ones. The article talks about sensors around the car that read the surroundings of the car and that is what helps he car to drive without a true driver behind the wheel. Those sensors could have a malfunctions and be sensing something that is that even there and make a left turn into a 100 foot deep lake. The vibrations that because the driver to be notified to drive could malfunction and now the driver has no way of knowing that the car is in trouble and now you, the driver, and the rest of your passengers are being buried in your local cemetery.\n",
      "\n",
      "One last thing that the article mentions is negative about the developement of driverless cars is who to blame for the wreck if there were possibly some sort of technological malfunciton or even some sort of human error when taking over the driving aspect. Should the manufacturer of the car be blamed or should it be the driver? No one knows because there is so many different factors that attribute to who to assign the blame to. Some of what will have to be made is a judgement call. When it comes to insurance and having to pay for any damages you do not want someone to have to make some sort of judgement call. What if that judgement call that was made was the wrong call? Now there are going to be even more lawsuits today in our courts than there already are. This problem alone will just lead to many more issues today in the world that should not have to be dealt with.\n",
      "\n",
      "With all these things that could possibly go wrong with these driverless cars there is no way that the developement of them should continue any further. In today's society if something bad COULD happen or something COULD go wrong, it WILL happen, and it WILL go wrong. There are just way too many safety hazards that come along with these driverless cars. Becuase of all of these problems that arise with the cars it is just a gargantuan risk to implement these cars into our lifestyles. \n"
     ]
    }
   ],
   "source": [
    "print(text_no_contr[1])"
   ]
  },
  {
   "cell_type": "markdown",
   "id": "42a3bae2",
   "metadata": {},
   "source": [
    "We now remove all non-letter and non-number symbols from the essays. To do this we import RegexpTokenizer. We create a new list \"words_no_punct\". Each i-th entry in this list consists of lowercase words from the i-th essay, excluding non-letter and non-number symbols."
   ]
  },
  {
   "cell_type": "code",
   "execution_count": 6,
   "id": "922a4e60",
   "metadata": {},
   "outputs": [],
   "source": [
    "import nltk\n",
    "from nltk.tokenize import RegexpTokenizer\n",
    "\n",
    "tokenizer = RegexpTokenizer(r'[a-zA-Z0-9]+') #this tokenises strings that consist of characters and number, i.e. it removes other symbols\n",
    "words_no_punct= [tokenizer.tokenize(text.lower()) for text in text_no_contr]\n"
   ]
  },
  {
   "cell_type": "code",
   "execution_count": 7,
   "id": "32a16fe2",
   "metadata": {},
   "outputs": [
    {
     "name": "stdout",
     "output_type": "stream",
     "text": [
      "['dear', 'teacher', 'name', 'i', 'agree', '100', 'with', 'you', 'i', 'think', 'in', 'order', 'to', 'be', 'on', 'a', 'team', 'sport', 'you', 'will', 'have', 'to', 'have', 'you', 'grade', 'up', 'to', 'a', 'b', 'i', 'think', 'that', 'because', 'its', 'not', 'fair', 'to', 'the', 'teachers', 'if', 'all', 'you', 'think', 'about', 'is', 'sports', 'and', 'your', 'grades', 'are', 'going', 'down', 'in', 'school', 'but', 'you', 'are', 'doing', 'sports', 'that', 'telling', 'the', 'teachers', 'you', 'just', 'do', 'not', 'care', 'also', 'i', 'think', 'its', 'unfair', 'to', 'the', 'other', 'students', 'that', 'you', 'are', 'on', 'the', 'soccer', 'team', 'but', 'have', 'grades', 'that', 'are', 'failing', 'and', 'you', 'miss', 'practice', 'all', 'the', 'time', 'because', 'you', 'have', 'detention', 'its', 'fair', 'do', 'have', 'the', 'honor', 'students', 'play', 'for', 'are', 'school', 'even', 'if', 'there', 'not', 'the', 'best', 'in', 'the', 'school', 'also', 'its', 'unfair', 'to', 'you', 'you', 'will', 'have', 'bad', 'grades', 'but', 'do', 'well', 'in', 'sports', 'you', 'should', 'do', 'a', 'activity', 'i', 'agree', 'with', 'that', 'but', 'only', 'if', 'your', 'grades', 'are', 'high', 'why', 'would', 'you', 'want', 'bad', 'grades', 'you', 'should', 'pass', 'also', 'it', 'just', 'does', 'not', 'seem', 'right', 'or', 'you', 'could', 'get', 'a', 'scholarship', 'into', 'a', 'college', 'for', 'sports', 'but', 'it', 'would', 'not', 'boost', 'your', 'grade', 'up', 'all', 'the', 'way', 'to', 'get', 'in', 'a', 'great', 'college', 'so', 'that', 'is', 'why', 'i', 'think', 'its', 'important', 'school', 'before', 'sports', 'and', 'have', 'an', 'a', 'or', 'b', 'for', 'grades', 'so', 'you', 'can', 'do', 'sports', 'thank', 'you', 'student', 'name']\n"
     ]
    }
   ],
   "source": [
    "print(words_no_punct[15])"
   ]
  },
  {
   "cell_type": "markdown",
   "id": "a88e9dd0",
   "metadata": {},
   "source": [
    "This code reads a txt file consisting of the most common English words. Then the code adds number strings up to 1000000, as I assume we don't want to count numbers as spelling errors. These words are stored in a set named \"word_set\"."
   ]
  },
  {
   "cell_type": "code",
   "execution_count": 8,
   "id": "9a042e9b",
   "metadata": {},
   "outputs": [
    {
     "name": "stdout",
     "output_type": "stream",
     "text": [
      "['the', 'of', 'in', 'a', 'and', 'is']\n"
     ]
    }
   ],
   "source": [
    "my_words = open(\"word_list.txt\", \"r\") \n",
    "text1 = my_words.read()  #this is a text file with 1 word per line\n",
    "words_into_list = text1.split(\"\\n\")  #split the text file at every line\n",
    "words_into_list = words_into_list+[str(i) for i in range(0,1000000)] #add numbers to the list\n",
    "word_set = set(words_into_list)\n",
    "\n",
    "print(words_into_list[0:6]) "
   ]
  },
  {
   "cell_type": "markdown",
   "id": "5a623af6",
   "metadata": {},
   "source": [
    "Now we will create a data frame consisting of essays and their error count.\n",
    "\n",
    "We import pandas. We then loop through each essay and each word of the essay checking if the word is contained in word_set. If it is not we add +1 to the error count.\n",
    "\n",
    "data_spell is a list of pairs [essay,number of errors]."
   ]
  },
  {
   "cell_type": "code",
   "execution_count": 9,
   "id": "29e05479",
   "metadata": {},
   "outputs": [],
   "source": [
    "import pandas as pd "
   ]
  },
  {
   "cell_type": "code",
   "execution_count": 10,
   "id": "3cdee95f",
   "metadata": {},
   "outputs": [],
   "source": [
    "data_spell=[]\n",
    "for essay_index in range(0,len(words_no_punct)): #loop through essays\n",
    "    errors=0\n",
    "    for word in words_no_punct[essay_index]: #loop through words in each essay\n",
    "        if word not in word_set: #if a word is not contained in our word_set, add +1 to errors\n",
    "            errors=errors+1\n",
    "    data_spell.append([text_list[essay_index], errors]) #create a list of tuples [essay, number of errors]\n",
    "\n"
   ]
  },
  {
   "cell_type": "markdown",
   "id": "a0011131",
   "metadata": {},
   "source": [
    "I include the code below to serve as a test. \n",
    "The code counts errors in an essay, prints the essay and the erroneous words. This can be used to check if the spell checker is working well."
   ]
  },
  {
   "cell_type": "code",
   "execution_count": 11,
   "id": "7379670c",
   "metadata": {},
   "outputs": [
    {
     "name": "stdout",
     "output_type": "stream",
     "text": [
      "['so', 'if', 'you', 'are', 'a', 'nasa', 'scientist', 'you', 'should', 'be', 'able', 'to', 'tell', 'me', 'the', 'whole', 'story', 'about', 'the', 'face', 'on', 'mars', 'which', 'obviously', 'is', 'evidence', 'that', 'there', 'is', 'life', 'on', 'mars', 'and', 'that', 'the', 'face', 'was', 'created', 'by', 'aliens', 'correct', 'no', 'twenty', 'five', 'years', 'ago', 'our', 'viking', '1', 'spacecraft', 'was', 'circling', 'the', 'planet', 'snapping', 'photos', 'when', 'it', 'spotted', 'the', 'shadowy', 'likeness', 'of', 'a', 'human', 'face', 'us', 'scientists', 'figured', 'out', 'that', 'it', 'was', 'just', 'another', 'martian', 'mesa', 'common', 'around', 'cydonia', 'only', 'this', 'one', 'had', 'shadows', 'that', 'made', 'it', 'look', 'like', 'an', 'egyption', 'pharaoh', 'very', 'few', 'days', 'later', 'we', 'revealed', 'the', 'image', 'for', 'all', 'to', 'see', 'and', 'we', 'made', 'sure', 'to', 'note', 'that', 'it', 'was', 'a', 'huge', 'rock', 'formation', 'that', 'just', 'resembled', 'a', 'human', 'head', 'and', 'face', 'but', 'all', 'of', 'it', 'was', 'formed', 'by', 'shadows', 'we', 'only', 'announced', 'it', 'because', 'we', 'thought', 'it', 'would', 'be', 'a', 'good', 'way', 'to', 'engage', 'the', 'public', 'with', 'nasa', 's', 'findings', 'and', 'atrract', 'attention', 'to', 'mars', 'and', 'it', 'did', 'the', 'face', 'on', 'mars', 'soon', 'became', 'a', 'pop', 'icon', 'shot', 'in', 'movies', 'appeared', 'in', 'books', 'magazines', 'radio', 'talk', 'shows', 'and', 'haunted', 'grocery', 'store', 'checkout', 'lines', 'for', '25', 'years', 'some', 'people', 'thought', 'the', 'natural', 'landform', 'was', 'evidence', 'of', 'life', 'on', 'mars', 'and', 'that', 'us', 'scientists', 'wanted', 'to', 'hide', 'it', 'but', 'really', 'the', 'defenders', 'of', 'the', 'nasa', 'budget', 'wish', 'there', 'was', 'ancient', 'civilization', 'on', 'mars', 'we', 'decided', 'to', 'take', 'another', 'shot', 'just', 'to', 'make', 'sure', 'we', 'were', 'not', 'wrong', 'on', 'april', '5', '1998', 'michael', 'malin', 'and', 'his', 'mars', 'orbiter', 'camera', 'team', 'took', 'a', 'picture', 'that', 'was', 'ten', 'times', 'sharper', 'than', 'the', 'original', 'viking', 'photos', 'revealing', 'a', 'natural', 'landform', 'which', 'meant', 'no', 'alien', 'monument', 'but', 'that', 'picture', 'was', 'not', 'very', 'clear', 'at', 'all', 'which', 'could', 'mean', 'alien', 'markings', 'were', 'hidden', 'by', 'haze', 'well', 'no', 'yes', 'that', 'rumor', 'started', 'but', 'to', 'prove', 'them', 'wrong', 'on', 'april', '8', '2001', 'we', 'decided', 'to', 'take', 'another', 'picture', 'making', 'sure', 'it', 'was', 'a', 'cloudless', 'summer', 'day', 'malin', 's', 'team', 'captured', 'an', 'amazing', 'photo', 'using', 'the', 'camera', 's', 'absolute', 'maximum', 'revolution', 'with', 'this', 'camera', 'you', 'can', 'discern', 'things', 'in', 'a', 'digital', 'image', '3', 'times', 'bigger', 'than', 'the', 'pixel', 'size', 'which', 'means', 'if', 'there', 'were', 'any', 'signs', 'of', 'life', 'you', 'could', 'easily', 'see', 'what', 'they', 'were', 'what', 'the', 'picture', 'showed', 'was', 'the', 'butte', 'or', 'mesa', 'which', 'are', 'landforms', 'common', 'around', 'the', 'american', 'west', 'but', 'how', 'do', 'we', 'know', 'you', 'are', 'not', 'just', 'hiding', 'things', 'from', 'us', 'you', 'should', 'know', 'nasa', 'is', 'not', 'hiding', 'anything', 'from', 'the', 'people', 'because', 'if', 'there', 'was', 'evidence', 'of', 'life', 'it', 'would', 'benefit', 'us', 'so', 'why', 'hide', 'it', 'if', 'you', 'still', 'do', 'not', 'believe', 'the', 'evidence', 'the', 'pictures', 'are', 'out', 'for', 'you', 'to', 'see', 'which', 'obviously', 'shows', 'a', 'natural', 'landform', 'the', 'reason', 'to', 'not', 'believe', 'these', 'movies', 'and', 'magazines', 'is', 'because', 'they', 'ignore', 'the', 'research', 'they', 'make', 'up', 'things', 'to', 'get', 'the', 'people', 'going', 'but', 'what', 'they', 'actually', 'should', 'do', 'is', 'pay', 'attention', 'to', 'us', 'because', 'we', 'have', 'very', 'important', 'findings', 'every', 'single', 'day']\n",
      "4\n",
      "['egyption', 'atrract', 'malin', 'malin']\n"
     ]
    }
   ],
   "source": [
    "errors=0\n",
    "i=12 #change i to analylize different essays\n",
    "bad=[] #this will be a list of mispelled words\n",
    "for word in words_no_punct[i]:\n",
    "    if word not in word_set:\n",
    "        errors=errors+1\n",
    "        bad.append(word)\n",
    "print(words_no_punct[i])\n",
    "print(errors)\n",
    "print(bad)\n"
   ]
  },
  {
   "cell_type": "markdown",
   "id": "4b11a224",
   "metadata": {},
   "source": [
    "Below we create the dataframe consisting of essays and the corresponding number of errors."
   ]
  },
  {
   "cell_type": "code",
   "execution_count": 12,
   "id": "5e7a3f8f",
   "metadata": {},
   "outputs": [
    {
     "data": {
      "text/html": [
       "<div>\n",
       "<style scoped>\n",
       "    .dataframe tbody tr th:only-of-type {\n",
       "        vertical-align: middle;\n",
       "    }\n",
       "\n",
       "    .dataframe tbody tr th {\n",
       "        vertical-align: top;\n",
       "    }\n",
       "\n",
       "    .dataframe thead th {\n",
       "        text-align: right;\n",
       "    }\n",
       "</style>\n",
       "<table border=\"1\" class=\"dataframe\">\n",
       "  <thead>\n",
       "    <tr style=\"text-align: right;\">\n",
       "      <th></th>\n",
       "      <th>essay</th>\n",
       "      <th>number of spelling errors</th>\n",
       "    </tr>\n",
       "  </thead>\n",
       "  <tbody>\n",
       "    <tr>\n",
       "      <th>0</th>\n",
       "      <td>Some people belive that the so called \"face\" o...</td>\n",
       "      <td>4</td>\n",
       "    </tr>\n",
       "    <tr>\n",
       "      <th>1</th>\n",
       "      <td>Driverless cars are exaclty what you would exp...</td>\n",
       "      <td>10</td>\n",
       "    </tr>\n",
       "    <tr>\n",
       "      <th>2</th>\n",
       "      <td>Dear: Principal\\n\\nI am arguing against the po...</td>\n",
       "      <td>2</td>\n",
       "    </tr>\n",
       "    <tr>\n",
       "      <th>3</th>\n",
       "      <td>Would you be able to give your car up? Having ...</td>\n",
       "      <td>5</td>\n",
       "    </tr>\n",
       "    <tr>\n",
       "      <th>4</th>\n",
       "      <td>I think that students would benefit from learn...</td>\n",
       "      <td>0</td>\n",
       "    </tr>\n",
       "    <tr>\n",
       "      <th>5</th>\n",
       "      <td>The seagoing cowboy program is the best thing ...</td>\n",
       "      <td>0</td>\n",
       "    </tr>\n",
       "    <tr>\n",
       "      <th>6</th>\n",
       "      <td>Venus also known as the Earth's \"twin\" is simi...</td>\n",
       "      <td>8</td>\n",
       "    </tr>\n",
       "    <tr>\n",
       "      <th>7</th>\n",
       "      <td>It is every student's dream to be able to loun...</td>\n",
       "      <td>0</td>\n",
       "    </tr>\n",
       "    <tr>\n",
       "      <th>8</th>\n",
       "      <td>Cars have been an issue to our community for a...</td>\n",
       "      <td>4</td>\n",
       "    </tr>\n",
       "    <tr>\n",
       "      <th>9</th>\n",
       "      <td>Phones &amp; Driving\\n\\nWaking up from a wonderful...</td>\n",
       "      <td>9</td>\n",
       "    </tr>\n",
       "    <tr>\n",
       "      <th>10</th>\n",
       "      <td>Dear, Principal\\n\\nIf u change the school poli...</td>\n",
       "      <td>0</td>\n",
       "    </tr>\n",
       "    <tr>\n",
       "      <th>11</th>\n",
       "      <td>Dear principal,\\n\\nI heard you are considering...</td>\n",
       "      <td>1</td>\n",
       "    </tr>\n",
       "    <tr>\n",
       "      <th>12</th>\n",
       "      <td>\"So, if you're a NASA scientist, you should be...</td>\n",
       "      <td>4</td>\n",
       "    </tr>\n",
       "    <tr>\n",
       "      <th>13</th>\n",
       "      <td>Dear, State Senoator I believe keeping the ele...</td>\n",
       "      <td>7</td>\n",
       "    </tr>\n",
       "    <tr>\n",
       "      <th>14</th>\n",
       "      <td>I disagree in having to make students particip...</td>\n",
       "      <td>1</td>\n",
       "    </tr>\n",
       "    <tr>\n",
       "      <th>15</th>\n",
       "      <td>Dear TEACHER_NAME,\\n\\nI agree 100% with you. i...</td>\n",
       "      <td>0</td>\n",
       "    </tr>\n",
       "    <tr>\n",
       "      <th>16</th>\n",
       "      <td>Dear Principal,\\n\\nOur school should have a co...</td>\n",
       "      <td>0</td>\n",
       "    </tr>\n",
       "  </tbody>\n",
       "</table>\n",
       "</div>"
      ],
      "text/plain": [
       "                                                essay  \\\n",
       "0   Some people belive that the so called \"face\" o...   \n",
       "1   Driverless cars are exaclty what you would exp...   \n",
       "2   Dear: Principal\\n\\nI am arguing against the po...   \n",
       "3   Would you be able to give your car up? Having ...   \n",
       "4   I think that students would benefit from learn...   \n",
       "5   The seagoing cowboy program is the best thing ...   \n",
       "6   Venus also known as the Earth's \"twin\" is simi...   \n",
       "7   It is every student's dream to be able to loun...   \n",
       "8   Cars have been an issue to our community for a...   \n",
       "9   Phones & Driving\\n\\nWaking up from a wonderful...   \n",
       "10  Dear, Principal\\n\\nIf u change the school poli...   \n",
       "11  Dear principal,\\n\\nI heard you are considering...   \n",
       "12  \"So, if you're a NASA scientist, you should be...   \n",
       "13  Dear, State Senoator I believe keeping the ele...   \n",
       "14  I disagree in having to make students particip...   \n",
       "15  Dear TEACHER_NAME,\\n\\nI agree 100% with you. i...   \n",
       "16  Dear Principal,\\n\\nOur school should have a co...   \n",
       "\n",
       "    number of spelling errors  \n",
       "0                           4  \n",
       "1                          10  \n",
       "2                           2  \n",
       "3                           5  \n",
       "4                           0  \n",
       "5                           0  \n",
       "6                           8  \n",
       "7                           0  \n",
       "8                           4  \n",
       "9                           9  \n",
       "10                          0  \n",
       "11                          1  \n",
       "12                          4  \n",
       "13                          7  \n",
       "14                          1  \n",
       "15                          0  \n",
       "16                          0  "
      ]
     },
     "execution_count": 12,
     "metadata": {},
     "output_type": "execute_result"
    }
   ],
   "source": [
    "df_errors = pd.DataFrame(data_spell, columns=['essay', 'number of spelling errors'])\n",
    "df_errors"
   ]
  },
  {
   "cell_type": "markdown",
   "id": "b989fbc0",
   "metadata": {},
   "source": [
    "## Notes:\n",
    "- The spell checker will not detect correctly spelled words that are not used correctly. For example, when \"its\" is used instead of \"it's\", this will not be counted.\n",
    "- The english word list has mistakes. For example it contains \"becuase\".\n",
    "- I have not analysed chat gpt essays yet."
   ]
  }
 ],
 "metadata": {
  "kernelspec": {
   "display_name": "Python 3 (ipykernel)",
   "language": "python",
   "name": "python3"
  },
  "language_info": {
   "codemirror_mode": {
    "name": "ipython",
    "version": 3
   },
   "file_extension": ".py",
   "mimetype": "text/x-python",
   "name": "python",
   "nbconvert_exporter": "python",
   "pygments_lexer": "ipython3",
   "version": "3.11.4"
  }
 },
 "nbformat": 4,
 "nbformat_minor": 5
}
