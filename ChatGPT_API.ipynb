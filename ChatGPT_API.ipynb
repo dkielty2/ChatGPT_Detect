{
 "cells": [
  {
   "cell_type": "markdown",
   "id": "21a03a78-911d-46fa-a00d-1c164add98af",
   "metadata": {},
   "source": [
    "# OpenAI API ChatGPT example\n",
    "[Click here for OpenAI API reference](https://platform.openai.com/docs/api-reference/authentication)"
   ]
  },
  {
   "cell_type": "code",
   "execution_count": 1,
   "id": "422d0fcd-6487-44f3-affd-090cd86f1678",
   "metadata": {},
   "outputs": [],
   "source": [
    "import openai \n",
    "\n",
    "# API_keys.py is a file that holds an api key\n",
    "# we can simply import the variable that holds the api key and use it\n",
    "from API_keys import open_ai_key\n",
    "openai.api_key = open_ai_key"
   ]
  },
  {
   "cell_type": "code",
   "execution_count": 2,
   "id": "e4048aa6-a05a-4c99-9088-046a891cd6cd",
   "metadata": {},
   "outputs": [],
   "source": [
    "class chatAI:\n",
    "    \"\"\"\n",
    "    Object class to use ChatGPT API\n",
    "    based off of: https://www.geeksforgeeks.org/how-to-use-chatgpt-api-in-python/\n",
    "    \"\"\"\n",
    "    def __init__(self,model=\"gpt-3.5-turbo\"):\n",
    "        self.model = model\n",
    "        self.log = [ {\"role\": \"system\", \n",
    "                      \"content\": \"You are a intelligent assistant.\"} ]\n",
    "    def chat(self,prompt):\n",
    "        self.log.append( {\"role\": \"user\",\n",
    "                          \"content\": prompt}) \n",
    "        chat = openai.ChatCompletion.create(model=\"gpt-3.5-turbo\", messages=self.log)\n",
    "        reply = chat.choices[0].message.content # get the reply\n",
    "        #log it\n",
    "        self.log.append({\"role\": \"system\",\n",
    "                         \"content\": reply}) \n",
    "        return reply"
   ]
  },
  {
   "cell_type": "code",
   "execution_count": 3,
   "id": "c3bb9942-10d7-4831-b3b8-a4af4bf38602",
   "metadata": {},
   "outputs": [],
   "source": [
    "gpt = chatAI() # create an object that uses the API"
   ]
  },
  {
   "cell_type": "markdown",
   "id": "5a087be9-c830-4e69-827d-f09620faa345",
   "metadata": {},
   "source": [
    "I time the cell below to see how long a prompt takes."
   ]
  },
  {
   "cell_type": "code",
   "execution_count": 4,
   "id": "75573c2e-a860-41fb-bf0d-80219ab31659",
   "metadata": {},
   "outputs": [
    {
     "name": "stdout",
     "output_type": "stream",
     "text": [
      "CPU times: user 4.34 ms, sys: 4.94 ms, total: 9.28 ms\n",
      "Wall time: 42.4 s\n"
     ]
    }
   ],
   "source": [
    "%%time \n",
    "# give it a prompt!\n",
    "output = gpt.chat(prompt = 'Write me a short essay about the cars')"
   ]
  },
  {
   "cell_type": "code",
   "execution_count": 5,
   "id": "cc74993f-0010-4e85-a4a9-cf2f60fb7080",
   "metadata": {},
   "outputs": [],
   "source": [
    "# write this output to a file\n",
    "filepath_out = 'ChatGPT_output/test_essay.txt'\n",
    "with open(filepath_out,'w') as f:\n",
    "    f.write(output)"
   ]
  },
  {
   "cell_type": "markdown",
   "id": "ad2e9f83-706d-4a9d-a9ae-6fb34b20df50",
   "metadata": {},
   "source": [
    "## Another Quick Example\n",
    "\n",
    "What if we just gave a prompt..."
   ]
  },
  {
   "cell_type": "code",
   "execution_count": 6,
   "id": "3f518f89-e08a-4776-9ad3-43b7933b6941",
   "metadata": {},
   "outputs": [
    {
     "name": "stdout",
     "output_type": "stream",
     "text": [
      "CPU times: user 3.28 ms, sys: 374 µs, total: 3.65 ms\n",
      "Wall time: 42 s\n"
     ]
    },
    {
     "data": {
      "text/plain": [
       "\"The ChatGPT, or Chat Generative Pre-trained Transformer, is an impressive and innovative advancement in artificial intelligence technology. Developed by OpenAI, the ChatGPT is designed to generate human-like responses in a conversational manner. It represents a significant step forward in the field of natural language processing and has the potential to revolutionize how we interact with intelligent assistants.\\n\\nOne of the key strengths of the ChatGPT is its ability to understand and respond to a wide range of topics. It has been trained on a vast amount of internet text, allowing it to draw upon a wealth of knowledge to provide informative and engaging responses. Whether it's discussing current events, answering trivia questions, or even engaging in light-hearted banter, the ChatGPT can seamlessly navigate through various conversational contexts.\\n\\nThe ChatGPT's ability to generate human-like responses is truly remarkable. Its deep learning algorithms allow it to understand the nuances of language, including grammar, syntax, and context. This enables it to provide responses that are not only coherent but also tailored to the specific question or statement it is given. The ChatGPT's responses are often so realistic that users may forget they are interacting with an artificial intelligence and could mistake it for a human counterpart.\\n\\nAnother standout feature of the ChatGPT is its adaptability. Users can easily customize the behavior and responses of the model to suit their needs. OpenAI has provided an interface that allows developers to fine-tune the model using their own datasets, making it more specialized and domain-specific. This level of flexibility ensures that the ChatGPT can be seamlessly integrated into a variety of applications and industries, from customer service to educational platforms.\\n\\nHowever, it is important to acknowledge the limitations of the ChatGPT. While it is capable of generating coherent responses, there are instances where it may produce incorrect or nonsensical answers. Additionally, the model may sometimes express biased or politically charged views due to the biases present in the training data. OpenAI has taken measures to address these issues by providing an interface for users to rate model outputs and gather feedback on potential improvements.\\n\\nIn conclusion, the ChatGPT is a groundbreaking development in AI technology. Its ability to generate human-like responses and adapt to different contexts makes it a valuable tool for various applications. While it has its limitations, OpenAI's commitment to refining the model and addressing its shortcomings shows promising potential for the future of conversational AI. As the technology continues to advance, the ChatGPT has the potential to redefine our interactions with intelligent assistants and pave the way for even more sophisticated AI systems.\""
      ]
     },
     "execution_count": 6,
     "metadata": {},
     "output_type": "execute_result"
    }
   ],
   "source": [
    "%%time\n",
    "gpt.chat(prompt = 'Write me a short essay about the chatgpt')"
   ]
  },
  {
   "cell_type": "markdown",
   "id": "4b665406-0cd2-43c9-b7a0-c8dd6b1a4536",
   "metadata": {},
   "source": [
    "But whoops! We forgot to save the output (let's ignore the fact that's we're in interactive python for a moment). Well, we can use the log to see the previous inputs and outputs."
   ]
  },
  {
   "cell_type": "code",
   "execution_count": 7,
   "id": "4f79b349-06f8-45b5-ad32-76f1c2f99239",
   "metadata": {},
   "outputs": [
    {
     "data": {
      "text/plain": [
       "[{'role': 'system', 'content': 'You are a intelligent assistant.'},\n",
       " {'role': 'user', 'content': 'Write me a short essay about the cars'},\n",
       " {'role': 'system',\n",
       "  'content': \"Cars have revolutionized the way we travel, reshaping our world and providing countless benefits to individuals and society as a whole. From their invention in the late 19th century to the modern, sleek models of today, cars have become an essential part of our day-to-day lives.\\n\\nOne of the key advantages of cars is their ability to provide unparalleled convenience and mobility. With a car, we can quickly and easily travel from one place to another, saving time and effort. Whether it's commuting to work, running errands, or going on road trips, cars offer a level of freedom and flexibility that other modes of transportation simply cannot match. They have influenced the way cities are designed, allowing people to live in suburbs and commute long distances to work, expanding living options and enabling the growth of urban areas.\\n\\nCars also play a significant role in our economy. The automobile industry is a major employer, creating jobs in manufacturing plants, repair shops, and dealerships. Moreover, cars have facilitated the growth of various industries such as petrol stations, auto parts, insurance, and transportation services. The demand for cars and their associated businesses drives economic growth, contributing to both national and global prosperity.\\n\\nIn addition to their economic impact, cars have enhanced our access to education, healthcare, and recreational activities. Students can easily commute to schools and universities, enabling them to pursue higher education without the constraints of proximity. Cars have also improved healthcare accessibility, allowing individuals to reach medical facilities in a timely manner. Moreover, they have opened up opportunities for leisure and exploration, enabling us to visit new places and experience different cultures.\\n\\nHowever, it is important to acknowledge that cars are not without their downsides. The combustion of fossil fuels in traditional gasoline-powered cars contributes to air pollution and climate change, leading to environmental concerns. Furthermore, cars can cause traffic congestion, with overcrowded roads leading to increased commute times and frustration. These issues emphasize the need for sustainable alternatives such as electric cars and public transportation systems to mitigate the negative impacts of car travel.\\n\\nIn conclusion, cars have transformed our lives and society in countless ways. They provide convenience, mobility, and economic opportunities while also presenting challenges to the environment and transportation infrastructure. As we continue to develop and evolve, it is crucial to seek innovative solutions that balance the benefits of cars with the need for sustainability and efficiency. By doing so, we can ensure that cars continue to be a valuable and integral part of our modern world.\"},\n",
       " {'role': 'user', 'content': 'Write me a short essay about the chatgpt'},\n",
       " {'role': 'system',\n",
       "  'content': \"The ChatGPT, or Chat Generative Pre-trained Transformer, is an impressive and innovative advancement in artificial intelligence technology. Developed by OpenAI, the ChatGPT is designed to generate human-like responses in a conversational manner. It represents a significant step forward in the field of natural language processing and has the potential to revolutionize how we interact with intelligent assistants.\\n\\nOne of the key strengths of the ChatGPT is its ability to understand and respond to a wide range of topics. It has been trained on a vast amount of internet text, allowing it to draw upon a wealth of knowledge to provide informative and engaging responses. Whether it's discussing current events, answering trivia questions, or even engaging in light-hearted banter, the ChatGPT can seamlessly navigate through various conversational contexts.\\n\\nThe ChatGPT's ability to generate human-like responses is truly remarkable. Its deep learning algorithms allow it to understand the nuances of language, including grammar, syntax, and context. This enables it to provide responses that are not only coherent but also tailored to the specific question or statement it is given. The ChatGPT's responses are often so realistic that users may forget they are interacting with an artificial intelligence and could mistake it for a human counterpart.\\n\\nAnother standout feature of the ChatGPT is its adaptability. Users can easily customize the behavior and responses of the model to suit their needs. OpenAI has provided an interface that allows developers to fine-tune the model using their own datasets, making it more specialized and domain-specific. This level of flexibility ensures that the ChatGPT can be seamlessly integrated into a variety of applications and industries, from customer service to educational platforms.\\n\\nHowever, it is important to acknowledge the limitations of the ChatGPT. While it is capable of generating coherent responses, there are instances where it may produce incorrect or nonsensical answers. Additionally, the model may sometimes express biased or politically charged views due to the biases present in the training data. OpenAI has taken measures to address these issues by providing an interface for users to rate model outputs and gather feedback on potential improvements.\\n\\nIn conclusion, the ChatGPT is a groundbreaking development in AI technology. Its ability to generate human-like responses and adapt to different contexts makes it a valuable tool for various applications. While it has its limitations, OpenAI's commitment to refining the model and addressing its shortcomings shows promising potential for the future of conversational AI. As the technology continues to advance, the ChatGPT has the potential to redefine our interactions with intelligent assistants and pave the way for even more sophisticated AI systems.\"}]"
      ]
     },
     "execution_count": 7,
     "metadata": {},
     "output_type": "execute_result"
    }
   ],
   "source": [
    "gpt.log"
   ]
  },
  {
   "cell_type": "code",
   "execution_count": 8,
   "id": "05d62e8d-c562-4ea9-86fb-44100ccc1624",
   "metadata": {},
   "outputs": [],
   "source": [
    "# the last entry of the log is the output from thhe inputted prompt\n",
    "output = gpt.log[-1]['content']"
   ]
  },
  {
   "cell_type": "code",
   "execution_count": 9,
   "id": "8ad5ace4-3ddc-45b6-be4f-b7f7edbcb218",
   "metadata": {},
   "outputs": [
    {
     "data": {
      "text/plain": [
       "\"The ChatGPT, or Chat Generative Pre-trained Transformer, is an impressive and innovative advancement in artificial intelligence technology. Developed by OpenAI, the ChatGPT is designed to generate human-like responses in a conversational manner. It represents a significant step forward in the field of natural language processing and has the potential to revolutionize how we interact with intelligent assistants.\\n\\nOne of the key strengths of the ChatGPT is its ability to understand and respond to a wide range of topics. It has been trained on a vast amount of internet text, allowing it to draw upon a wealth of knowledge to provide informative and engaging responses. Whether it's discussing current events, answering trivia questions, or even engaging in light-hearted banter, the ChatGPT can seamlessly navigate through various conversational contexts.\\n\\nThe ChatGPT's ability to generate human-like responses is truly remarkable. Its deep learning algorithms allow it to understand the nuances of language, including grammar, syntax, and context. This enables it to provide responses that are not only coherent but also tailored to the specific question or statement it is given. The ChatGPT's responses are often so realistic that users may forget they are interacting with an artificial intelligence and could mistake it for a human counterpart.\\n\\nAnother standout feature of the ChatGPT is its adaptability. Users can easily customize the behavior and responses of the model to suit their needs. OpenAI has provided an interface that allows developers to fine-tune the model using their own datasets, making it more specialized and domain-specific. This level of flexibility ensures that the ChatGPT can be seamlessly integrated into a variety of applications and industries, from customer service to educational platforms.\\n\\nHowever, it is important to acknowledge the limitations of the ChatGPT. While it is capable of generating coherent responses, there are instances where it may produce incorrect or nonsensical answers. Additionally, the model may sometimes express biased or politically charged views due to the biases present in the training data. OpenAI has taken measures to address these issues by providing an interface for users to rate model outputs and gather feedback on potential improvements.\\n\\nIn conclusion, the ChatGPT is a groundbreaking development in AI technology. Its ability to generate human-like responses and adapt to different contexts makes it a valuable tool for various applications. While it has its limitations, OpenAI's commitment to refining the model and addressing its shortcomings shows promising potential for the future of conversational AI. As the technology continues to advance, the ChatGPT has the potential to redefine our interactions with intelligent assistants and pave the way for even more sophisticated AI systems.\""
      ]
     },
     "execution_count": 9,
     "metadata": {},
     "output_type": "execute_result"
    }
   ],
   "source": [
    "output"
   ]
  }
 ],
 "metadata": {
  "kernelspec": {
   "display_name": "Python 3 (ipykernel)",
   "language": "python",
   "name": "python3"
  },
  "language_info": {
   "codemirror_mode": {
    "name": "ipython",
    "version": 3
   },
   "file_extension": ".py",
   "mimetype": "text/x-python",
   "name": "python",
   "nbconvert_exporter": "python",
   "pygments_lexer": "ipython3",
   "version": "3.9.13"
  }
 },
 "nbformat": 4,
 "nbformat_minor": 5
}
