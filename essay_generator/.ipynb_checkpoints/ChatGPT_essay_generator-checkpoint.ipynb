{
 "cells": [
  {
   "cell_type": "code",
   "execution_count": 3,
   "id": "c1f3c7a1",
   "metadata": {},
   "outputs": [],
   "source": [
    "#imports\n",
    "import os\n",
    "\n",
    "import nltk\n",
    "from nltk.tokenize import word_tokenize\n",
    "from nltk.tokenize import WhitespaceTokenizer \n",
    "from nltk.corpus import stopwords\n",
    "from nltk.stem import WordNetLemmatizer\n",
    "\n",
    "from collections import Counter\n",
    "\n",
    "import openai \n",
    "\n",
    "# API_keys.py is a file that holds an api key\n",
    "# we can simply import the variable that holds the api key and use it\n",
    "from API_keys import open_ai_key\n",
    "openai.api_key = open_ai_key\n",
    "\n",
    "from retry.api import retry_call"
   ]
  },
  {
   "cell_type": "code",
   "execution_count": 16,
   "id": "0dfb735a",
   "metadata": {},
   "outputs": [],
   "source": [
    "#make list of human essays file names\n",
    "\n",
    "data_path = '../data/'\n",
    "folder_path = data_path + 'train'\n",
    "\n",
    "file_list = [file for file in os.listdir(folder_path) if os.path.isfile(os.path.join(folder_path, file))]\n",
    "file_list.sort() \n",
    "# os.listdir() returns the file list in random(ish) order. Sort to standardize."
   ]
  },
  {
   "cell_type": "code",
   "execution_count": 6,
   "id": "e8c28744",
   "metadata": {},
   "outputs": [],
   "source": [
    "class chatAI:\n",
    "    \"\"\"\n",
    "    Object class to use ChatGPT API\n",
    "    based off of: https://www.geeksforgeeks.org/how-to-use-chatgpt-api-in-python/\n",
    "    \"\"\"\n",
    "    def __init__(self,model=\"gpt-3.5-turbo\"):\n",
    "        self.model = model\n",
    "        self.log = [ {\"role\": \"system\", \n",
    "                      \"content\": \"You are a intelligent assistant.\"} ]\n",
    "    def chat(self,prompt):\n",
    "        self.log.append( {\"role\": \"user\",\n",
    "                          \"content\": prompt}) \n",
    "        chat = openai.ChatCompletion.create(model=\"gpt-3.5-turbo\", messages=self.log)\n",
    "        reply = chat.choices[0].message.content # get the reply\n",
    "        #log it\n",
    "        self.log.append({\"role\": \"system\",\n",
    "                         \"content\": reply}) \n",
    "        return reply"
   ]
  },
  {
   "cell_type": "code",
   "execution_count": 7,
   "id": "3fb193eb",
   "metadata": {},
   "outputs": [
    {
     "name": "stdout",
     "output_type": "stream",
     "text": [
      "GPT_essay directory exists.\n"
     ]
    }
   ],
   "source": [
    "#make new folder for ChatGPT essays\n",
    "\n",
    "folder_name = 'GPT_essays' \n",
    "GPT_dir = data_path + folder_name\n",
    "\n",
    "if os.path.exists(GPT_dir):\n",
    "    print('GPT_essay directory exists.')\n",
    "else:\n",
    "    os.mkdir(GPT_dir)\n",
    "    print('GPT_essay directory has been created.')"
   ]
  },
  {
   "cell_type": "code",
   "execution_count": 8,
   "id": "b442bf93",
   "metadata": {},
   "outputs": [],
   "source": [
    "file_name = 'ChatGPT_prompts.txt'\n",
    "\n",
    "with open(file_name, 'r', encoding='utf-8') as file:\n",
    "    prompts_str = file.read()\n",
    "    \n",
    "prompts = prompts_str.split('\\n')"
   ]
  },
  {
   "cell_type": "code",
   "execution_count": 9,
   "id": "235388e1",
   "metadata": {},
   "outputs": [],
   "source": [
    "#choose where to start and end making GPT essays in file_list: \n",
    "start = 4000\n",
    "end = 8000\n",
    "\n",
    "#initialize global variable i at the start\n",
    "i = start"
   ]
  },
  {
   "cell_type": "code",
   "execution_count": 10,
   "id": "14f54a83",
   "metadata": {},
   "outputs": [],
   "source": [
    "#feed promts to ChatGPT via API\n",
    "#save essays to .txt files\n",
    "#naming convection: 'GPT_' + file_name of original essay the prompt was generated from\n",
    "\n",
    "def gen_essays():\n",
    "    \n",
    "    global i\n",
    "    \n",
    "    for essay_prompt in prompts[i:end]:\n",
    "        gpt = chatAI() # create an object that uses the API\n",
    "        essay = gpt.chat(prompt = essay_prompt)\n",
    "\n",
    "        file_name = 'GPT_' + file_list[i]\n",
    "        file_path = os.path.join(GPT_dir, file_name)\n",
    "\n",
    "        with open(file_path, \"w\") as text_file:\n",
    "            text_file.write(essay)\n",
    "\n",
    "        i += 1\n",
    "        if i%5 == 0:\n",
    "            print(f\"Generated the {i}th ChatGPT essay.\")"
   ]
  },
  {
   "cell_type": "code",
   "execution_count": null,
   "id": "538583a8",
   "metadata": {},
   "outputs": [],
   "source": [
    "#sometimes ChatGPT API gives up and thows an error\n",
    "#when this happens I would like for retry_call() reruns the \n",
    "#gen_essays() function from the i value it left off at\n",
    "\n",
    "#error: \"Timeout: Request timed out: HTTPSConnectionPool(host='api.openai.com', port=443): Read timed out. (read timeout=600)\"\n",
    "\n",
    "retry_call(gen_essays())"
   ]
  },
  {
   "cell_type": "code",
   "execution_count": null,
   "id": "47ab50cf",
   "metadata": {},
   "outputs": [],
   "source": []
  }
 ],
 "metadata": {
  "kernelspec": {
   "display_name": "Python 3 (ipykernel)",
   "language": "python",
   "name": "python3"
  },
  "language_info": {
   "codemirror_mode": {
    "name": "ipython",
    "version": 3
   },
   "file_extension": ".py",
   "mimetype": "text/x-python",
   "name": "python",
   "nbconvert_exporter": "python",
   "pygments_lexer": "ipython3",
   "version": "3.9.7"
  }
 },
 "nbformat": 4,
 "nbformat_minor": 5
}
