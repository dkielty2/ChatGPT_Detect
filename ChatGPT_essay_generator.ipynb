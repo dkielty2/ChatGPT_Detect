{
 "cells": [
  {
   "cell_type": "code",
   "execution_count": 1,
   "id": "d09cabb5",
   "metadata": {},
   "outputs": [
    {
     "name": "stderr",
     "output_type": "stream",
     "text": [
      "<frozen importlib._bootstrap>:228: RuntimeWarning: scipy._lib.messagestream.MessageStream size changed, may indicate binary incompatibility. Expected 56 from C header, got 64 from PyObject\n"
     ]
    }
   ],
   "source": [
    "#imports\n",
    "\n",
    "import os\n",
    "\n",
    "import nltk\n",
    "from nltk.tokenize import word_tokenize\n",
    "from nltk.tokenize import WhitespaceTokenizer \n",
    "from nltk.corpus import stopwords\n",
    "from nltk.stem import WordNetLemmatizer\n",
    "\n",
    "from collections import Counter"
   ]
  },
  {
   "cell_type": "code",
   "execution_count": 2,
   "id": "bd8b75f5",
   "metadata": {},
   "outputs": [],
   "source": [
    "#read in human essays\n",
    "\n",
    "folder_path = 'data/train'\n",
    "\n",
    "file_list = [file for file in os.listdir(folder_path) if os.path.isfile(os.path.join(folder_path, file))]\n",
    "file_list.sort() \n",
    "# os.listdir() returns the file list in random(ish) order. Sort to standardize.\n",
    "\n",
    "text_list =[]\n",
    "\n",
    "for file_name in file_list:\n",
    "    file_path = os.path.join(folder_path, file_name)\n",
    "    with open(file_path, 'r', encoding='utf-8') as file:\n",
    "        text = file.read()\n",
    "        text_list.append(text)"
   ]
  },
  {
   "cell_type": "code",
   "execution_count": 3,
   "id": "dae19fef",
   "metadata": {},
   "outputs": [],
   "source": [
    "#choose tokenizer\n",
    "\n",
    "tk_type = 'word'\n",
    "\n",
    "if tk_type == 'word':\n",
    "    words_in_text = [word_tokenize(text.lower()) for text in text_list]\n",
    "elif tk_type == 'whitespace':\n",
    "    tk = WhitespaceTokenizer()\n",
    "    words_in_text = [tk.tokenize(text.lower()) for text in text_list]"
   ]
  },
  {
   "cell_type": "code",
   "execution_count": 4,
   "id": "299156eb",
   "metadata": {},
   "outputs": [
    {
     "name": "stderr",
     "output_type": "stream",
     "text": [
      "[nltk_data] Downloading package wordnet to\n",
      "[nltk_data]     /Users/derekkielty/nltk_data...\n",
      "[nltk_data]   Package wordnet is already up-to-date!\n"
     ]
    }
   ],
   "source": [
    "#reproccessing: remove non-alphabetic char, remove stop words, lemmatize\n",
    "\n",
    "words_in_text_alp = [ [word for word in text if word.isalpha()]\n",
    "                      for text in words_in_text ]\n",
    "\n",
    "nltk.download('wordnet')\n",
    "\n",
    "stop_words = set(stopwords.words(\"english\"))\n",
    "no_stops = [ [word for word in text_alp if word not in stop_words]\n",
    "            for text_alp in words_in_text_alp ] \n",
    "\n",
    "word_net = WordNetLemmatizer()\n",
    "lemmatized = [ [(word_net.lemmatize(t)) for t in no_stop ]\n",
    "              for no_stop in no_stops ]"
   ]
  },
  {
   "cell_type": "code",
   "execution_count": 5,
   "id": "ef00fa81",
   "metadata": {},
   "outputs": [],
   "source": [
    "#Count number of times each word appears in each essay and select the top N words\n",
    "#Top N words in an essay is the \"topic\" to create the ChatGPT prompt\n",
    "\n",
    "top_word_freq = [Counter(topics).most_common(1)[0] for topics in lemmatized]\n",
    "top_word = [freq[0] for freq in top_word_freq]\n",
    "\n",
    "N = 5 #select the top N words from each essay\n",
    "\n",
    "top_words_freq = [Counter(topics).most_common(N) for topics in lemmatized]\n",
    "\n",
    "top_words = []\n",
    "for freq in top_words_freq:\n",
    "    temp_topic = []\n",
    "    for x in freq:\n",
    "        temp_topic.append(x[0])\n",
    "    top_words.append(tuple(temp_topic))"
   ]
  },
  {
   "cell_type": "code",
   "execution_count": null,
   "id": "a765b977",
   "metadata": {},
   "outputs": [],
   "source": []
  }
 ],
 "metadata": {
  "kernelspec": {
   "display_name": "Python 3 (ipykernel)",
   "language": "python",
   "name": "python3"
  },
  "language_info": {
   "codemirror_mode": {
    "name": "ipython",
    "version": 3
   },
   "file_extension": ".py",
   "mimetype": "text/x-python",
   "name": "python",
   "nbconvert_exporter": "python",
   "pygments_lexer": "ipython3",
   "version": "3.9.7"
  }
 },
 "nbformat": 4,
 "nbformat_minor": 5
}
