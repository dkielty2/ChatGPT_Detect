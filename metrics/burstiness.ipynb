{
 "cells": [
  {
   "cell_type": "markdown",
   "id": "ccfa54d5",
   "metadata": {},
   "source": [
    "## Burstiness\n",
    "\n",
    "In this notebook we construct a data frame consisting of essays and their associated burstiness score.\n",
    "\n",
    "In this document \"burstiness\" will have the meaning of a measure of deviation from average sentence length. Do note that some people use the term \"burstiness\" to mean variance in word frequency, which is another potentially useful metric.\n",
    "\n",
    "The code below is the same as Derek's (essay topic analysis). What it does is it imports each text file from our data set as a string into a text_list using the os module, and then reads off the first entry."
   ]
  },
  {
   "cell_type": "code",
   "execution_count": 51,
   "id": "2093df2b",
   "metadata": {},
   "outputs": [],
   "source": [
    "import os\n",
    "\n",
    "folder_path = 'small test'\n",
    "\n",
    "file_list = [file for file in os.listdir(folder_path) if os.path.isfile(os.path.join(folder_path, file))]\n",
    "file_list.sort() \n",
    "# os.listdir() returns the file list in random(ish) order. Sort to standardize.\n",
    "\n",
    "text_list =[]\n",
    "\n",
    "for file_name in file_list:\n",
    "    file_path = os.path.join(folder_path, file_name)\n",
    "    with open(file_path, 'r', encoding='utf-8') as file:\n",
    "        text = file.read()\n",
    "        text_list.append(text)"
   ]
  },
  {
   "cell_type": "code",
   "execution_count": 52,
   "id": "174c5643",
   "metadata": {},
   "outputs": [
    {
     "data": {
      "text/plain": [
       "\"Driverless cars are exaclty what you would expect them to be. Cars that will drive without a person actually behind the wheel controlling the actions of the vehicle. The idea of driverless cars going in to developement shows the amount of technological increase that the wolrd has made. The leader of this idea of driverless cars are the automobiles they call Google cars. The arduous task of creating safe driverless cars has not been fully mastered yet. The developement of these cars should be stopped immediately because there are too many hazardous and dangerous events that could occur.\\n\\nOne thing that the article mentions is that the driver will be alerted when they will need to take over the driving responsibilites of the car. This is such a dangerous thing because we all know that whenever humans get their attention drawn in on something interesting it is hard to draw their focus somewhere else. The article explains that companies are trying to implement vibrations when the car is in trouble. Their are some people out there who do not feel vibrations and therefore would not be able to take control of the car when needed. The article also states that companies are trying to put in-car entertainment into the car while it is being driven. This is just another thing that will distract the person who is supposed to be ready at all times to take over driving when asked to do so.\\n\\nAnother thing that can go wrong with these cars is any type of techological malfucntion. Every person with any kind of technological device has experienced some sort of error. Now imagine if your car has an error technologically and it takes the life of one your loved ones. The article talks about sensors around the car that read the surroundings of the car and that is what helps he car to drive without a true driver behind the wheel. Those sensors could have a malfunctions and be sensing something that is that even there and make a left turn into a 100 foot deep lake. The vibrations that cause the driver to be notified to drive could malfunction and now the driver has no way of knowing that the car is in trouble and now you, the driver, and the rest of your passengers are being buried in your local cemetery.\\n\\nOne last thing that the article mentions is negative about the developement of driverless cars is who to blame for the wreck if there were possibly some sort of technological malfunciton or even some sort of human error when taking over the driving aspect. Should the manufacturer of the car be blamed or should it be the driver? No one knows because there is so many different factors that attribute to who to assign the blame to. Some of what will have to be made is a judgement call. When it comes to insurance and having to pay for any damages you do not want someone to have to make some sort of judgement call. What if that judgement call that was made was the wrong call? Now there are going to be even more lawsuits today in our courts than there already are. This problem alone will just lead to many more issues today in the world that should not have to be dealt with.\\n\\nWith all these things that could possibly go wrong with these driverless cars there is no way that the developement of them should continue any further. In today's society if something bad COULD happen or something COULD go wrong, it WILL happen, and it WILL go wrong. There are just way too many safety hazards that come along with these driverless cars. Becuase of all of these problems that arise with the cars it is just a gargantuan risk to implement these cars into our lifestyles. \""
      ]
     },
     "execution_count": 52,
     "metadata": {},
     "output_type": "execute_result"
    }
   ],
   "source": [
    "text_list[1]"
   ]
  },
  {
   "cell_type": "markdown",
   "id": "add85988",
   "metadata": {},
   "source": [
    "We import nltk and download stopwords and punkt packages. \n",
    "\n",
    "We create a function that tokenises words from a piece of text, with punctuation and stop words removed. Note that stop words are words like \"a\", \"the\", \"in\", and these are usually removed so that we save processing time.\n",
    "\n",
    "We also create a function that tokenises sentences."
   ]
  },
  {
   "cell_type": "code",
   "execution_count": 53,
   "id": "15607e16",
   "metadata": {},
   "outputs": [
    {
     "name": "stderr",
     "output_type": "stream",
     "text": [
      "[nltk_data] Downloading package punkt to\n",
      "[nltk_data]     C:\\Users\\s1557452\\AppData\\Roaming\\nltk_data...\n",
      "[nltk_data]   Package punkt is already up-to-date!\n",
      "[nltk_data] Downloading package stopwords to\n",
      "[nltk_data]     C:\\Users\\s1557452\\AppData\\Roaming\\nltk_data...\n",
      "[nltk_data]   Package stopwords is already up-to-date!\n"
     ]
    }
   ],
   "source": [
    "import nltk\n",
    "nltk.download('punkt')\n",
    "nltk.download('stopwords')\n",
    "from nltk.corpus import stopwords\n",
    "import string\n",
    "\n",
    "def token_word(text):\n",
    "    tokens = nltk.word_tokenize(text.lower())\n",
    "    stop_words = set(stopwords.words('english'))\n",
    "    tokens = [token for token in tokens if token not in stop_words and token not in string.punctuation]\n",
    "    return tokens"
   ]
  },
  {
   "cell_type": "code",
   "execution_count": 54,
   "id": "69661f26",
   "metadata": {},
   "outputs": [],
   "source": [
    "from nltk.tokenize import sent_tokenize\n",
    "\n",
    "def token_sent(text):\n",
    "    tokens = nltk.sent_tokenize(text.lower())\n",
    "    tokens = [token for token in tokens if token not in string.punctuation]\n",
    "    return tokens"
   ]
  },
  {
   "cell_type": "markdown",
   "id": "8704305f",
   "metadata": {},
   "source": [
    "Examples of tokenisation:"
   ]
  },
  {
   "cell_type": "code",
   "execution_count": 55,
   "id": "bd5cce18",
   "metadata": {},
   "outputs": [
    {
     "name": "stdout",
     "output_type": "stream",
     "text": [
      "['driverless cars are exaclty what you would expect them to be.', 'cars that will drive without a person actually behind the wheel controlling the actions of the vehicle.', 'the idea of driverless cars going in to developement shows the amount of technological increase that the wolrd has made.', 'the leader of this idea of driverless cars are the automobiles they call google cars.', 'the arduous task of creating safe driverless cars has not been fully mastered yet.', 'the developement of these cars should be stopped immediately because there are too many hazardous and dangerous events that could occur.', 'one thing that the article mentions is that the driver will be alerted when they will need to take over the driving responsibilites of the car.', 'this is such a dangerous thing because we all know that whenever humans get their attention drawn in on something interesting it is hard to draw their focus somewhere else.', 'the article explains that companies are trying to implement vibrations when the car is in trouble.', 'their are some people out there who do not feel vibrations and therefore would not be able to take control of the car when needed.', 'the article also states that companies are trying to put in-car entertainment into the car while it is being driven.', 'this is just another thing that will distract the person who is supposed to be ready at all times to take over driving when asked to do so.', 'another thing that can go wrong with these cars is any type of techological malfucntion.', 'every person with any kind of technological device has experienced some sort of error.', 'now imagine if your car has an error technologically and it takes the life of one your loved ones.', 'the article talks about sensors around the car that read the surroundings of the car and that is what helps he car to drive without a true driver behind the wheel.', 'those sensors could have a malfunctions and be sensing something that is that even there and make a left turn into a 100 foot deep lake.', 'the vibrations that cause the driver to be notified to drive could malfunction and now the driver has no way of knowing that the car is in trouble and now you, the driver, and the rest of your passengers are being buried in your local cemetery.', 'one last thing that the article mentions is negative about the developement of driverless cars is who to blame for the wreck if there were possibly some sort of technological malfunciton or even some sort of human error when taking over the driving aspect.', 'should the manufacturer of the car be blamed or should it be the driver?', 'no one knows because there is so many different factors that attribute to who to assign the blame to.', 'some of what will have to be made is a judgement call.', 'when it comes to insurance and having to pay for any damages you do not want someone to have to make some sort of judgement call.', 'what if that judgement call that was made was the wrong call?', 'now there are going to be even more lawsuits today in our courts than there already are.', 'this problem alone will just lead to many more issues today in the world that should not have to be dealt with.', 'with all these things that could possibly go wrong with these driverless cars there is no way that the developement of them should continue any further.', \"in today's society if something bad could happen or something could go wrong, it will happen, and it will go wrong.\", 'there are just way too many safety hazards that come along with these driverless cars.', 'becuase of all of these problems that arise with the cars it is just a gargantuan risk to implement these cars into our lifestyles.']\n",
      "['driverless', 'cars', 'exaclty', 'would', 'expect', 'cars', 'drive', 'without', 'person', 'actually', 'behind', 'wheel', 'controlling', 'actions', 'vehicle', 'idea', 'driverless', 'cars', 'going', 'developement', 'shows', 'amount', 'technological', 'increase', 'wolrd', 'made', 'leader', 'idea', 'driverless', 'cars', 'automobiles', 'call', 'google', 'cars', 'arduous', 'task', 'creating', 'safe', 'driverless', 'cars', 'fully', 'mastered', 'yet', 'developement', 'cars', 'stopped', 'immediately', 'many', 'hazardous', 'dangerous', 'events', 'could', 'occur', 'one', 'thing', 'article', 'mentions', 'driver', 'alerted', 'need', 'take', 'driving', 'responsibilites', 'car', 'dangerous', 'thing', 'know', 'whenever', 'humans', 'get', 'attention', 'drawn', 'something', 'interesting', 'hard', 'draw', 'focus', 'somewhere', 'else', 'article', 'explains', 'companies', 'trying', 'implement', 'vibrations', 'car', 'trouble', 'people', 'feel', 'vibrations', 'therefore', 'would', 'able', 'take', 'control', 'car', 'needed', 'article', 'also', 'states', 'companies', 'trying', 'put', 'in-car', 'entertainment', 'car', 'driven', 'another', 'thing', 'distract', 'person', 'supposed', 'ready', 'times', 'take', 'driving', 'asked', 'another', 'thing', 'go', 'wrong', 'cars', 'type', 'techological', 'malfucntion', 'every', 'person', 'kind', 'technological', 'device', 'experienced', 'sort', 'error', 'imagine', 'car', 'error', 'technologically', 'takes', 'life', 'one', 'loved', 'ones', 'article', 'talks', 'sensors', 'around', 'car', 'read', 'surroundings', 'car', 'helps', 'car', 'drive', 'without', 'true', 'driver', 'behind', 'wheel', 'sensors', 'could', 'malfunctions', 'sensing', 'something', 'even', 'make', 'left', 'turn', '100', 'foot', 'deep', 'lake', 'vibrations', 'cause', 'driver', 'notified', 'drive', 'could', 'malfunction', 'driver', 'way', 'knowing', 'car', 'trouble', 'driver', 'rest', 'passengers', 'buried', 'local', 'cemetery', 'one', 'last', 'thing', 'article', 'mentions', 'negative', 'developement', 'driverless', 'cars', 'blame', 'wreck', 'possibly', 'sort', 'technological', 'malfunciton', 'even', 'sort', 'human', 'error', 'taking', 'driving', 'aspect', 'manufacturer', 'car', 'blamed', 'driver', 'one', 'knows', 'many', 'different', 'factors', 'attribute', 'assign', 'blame', 'made', 'judgement', 'call', 'comes', 'insurance', 'pay', 'damages', 'want', 'someone', 'make', 'sort', 'judgement', 'call', 'judgement', 'call', 'made', 'wrong', 'call', 'going', 'even', 'lawsuits', 'today', 'courts', 'already', 'problem', 'alone', 'lead', 'many', 'issues', 'today', 'world', 'dealt', 'things', 'could', 'possibly', 'go', 'wrong', 'driverless', 'cars', 'way', 'developement', 'continue', 'today', \"'s\", 'society', 'something', 'bad', 'could', 'happen', 'something', 'could', 'go', 'wrong', 'happen', 'go', 'wrong', 'way', 'many', 'safety', 'hazards', 'come', 'along', 'driverless', 'cars', 'becuase', 'problems', 'arise', 'cars', 'gargantuan', 'risk', 'implement', 'cars', 'lifestyles']\n"
     ]
    }
   ],
   "source": [
    "print(token_sent(text_list[1]))\n",
    "print(token_word(text_list[1]))"
   ]
  },
  {
   "cell_type": "markdown",
   "id": "3b13792d",
   "metadata": {},
   "source": [
    "We now make a function that calculates the average sentence length of an essay."
   ]
  },
  {
   "cell_type": "code",
   "execution_count": 56,
   "id": "5d785e40",
   "metadata": {},
   "outputs": [
    {
     "name": "stdout",
     "output_type": "stream",
     "text": [
      "Average number of words per sentence is 10.2\n"
     ]
    }
   ],
   "source": [
    "def avg_sent_len(text):\n",
    "    num_words    = len(token_word(text))  #Total number of words in text\n",
    "    num_sents    = len(token_sent(text))  #Total number of sentences in text\n",
    "    avg_sent_len = num_words/num_sents #Average number of words per sentence \n",
    "    return avg_sent_len\n",
    "\n",
    "\n",
    "asl = avg_sent_len(text_list[5])   \n",
    "print(f\"Average number of words per sentence is {asl:.1f}\")"
   ]
  },
  {
   "cell_type": "markdown",
   "id": "86f01b03",
   "metadata": {},
   "source": [
    "We now create a function that calculates variance in sentence length of an essay."
   ]
  },
  {
   "cell_type": "code",
   "execution_count": 57,
   "id": "1c474ef0",
   "metadata": {},
   "outputs": [
    {
     "data": {
      "text/plain": [
       "118.81163434903046"
      ]
     },
     "execution_count": 57,
     "metadata": {},
     "output_type": "execute_result"
    }
   ],
   "source": [
    "def length_variance(text):\n",
    "    sentences = token_sent(text)\n",
    "    avg_freq = avg_sent_len(text)\n",
    "    variance = sum((len(sentence.split()) - avg_freq) ** 2 for sentence in sentences) / len(sentences)\n",
    "    return variance\n",
    "\n",
    "length_variance(text_list[10])"
   ]
  },
  {
   "cell_type": "markdown",
   "id": "5a623af6",
   "metadata": {},
   "source": [
    "Now we will create a data frame consisting of essays and their burstiness score."
   ]
  },
  {
   "cell_type": "code",
   "execution_count": 58,
   "id": "29e05479",
   "metadata": {},
   "outputs": [],
   "source": [
    "import pandas as pd "
   ]
  },
  {
   "cell_type": "code",
   "execution_count": 59,
   "id": "3cdee95f",
   "metadata": {},
   "outputs": [],
   "source": [
    "data_burst=[]\n",
    "for essay_index in range(0,len(text_list)): #loop through essays\n",
    "    burstiness = length_variance(text_list[essay_index])\n",
    "    data_burst.append([text_list[essay_index], burstiness]) #create a list of tuples [essay, number of errors]\n"
   ]
  },
  {
   "cell_type": "markdown",
   "id": "4b11a224",
   "metadata": {},
   "source": [
    "Below we create the dataframe consisting of essays and the corresponding burstiness."
   ]
  },
  {
   "cell_type": "code",
   "execution_count": 60,
   "id": "5e7a3f8f",
   "metadata": {},
   "outputs": [
    {
     "data": {
      "text/html": [
       "<div>\n",
       "<style scoped>\n",
       "    .dataframe tbody tr th:only-of-type {\n",
       "        vertical-align: middle;\n",
       "    }\n",
       "\n",
       "    .dataframe tbody tr th {\n",
       "        vertical-align: top;\n",
       "    }\n",
       "\n",
       "    .dataframe thead th {\n",
       "        text-align: right;\n",
       "    }\n",
       "</style>\n",
       "<table border=\"1\" class=\"dataframe\">\n",
       "  <thead>\n",
       "    <tr style=\"text-align: right;\">\n",
       "      <th></th>\n",
       "      <th>essay</th>\n",
       "      <th>burstiness</th>\n",
       "    </tr>\n",
       "  </thead>\n",
       "  <tbody>\n",
       "    <tr>\n",
       "      <th>0</th>\n",
       "      <td>Some people belive that the so called \"face\" o...</td>\n",
       "      <td>137.637755</td>\n",
       "    </tr>\n",
       "    <tr>\n",
       "      <th>1</th>\n",
       "      <td>Driverless cars are exaclty what you would exp...</td>\n",
       "      <td>205.626667</td>\n",
       "    </tr>\n",
       "    <tr>\n",
       "      <th>2</th>\n",
       "      <td>Dear: Principal\\n\\nI am arguing against the po...</td>\n",
       "      <td>384.107438</td>\n",
       "    </tr>\n",
       "    <tr>\n",
       "      <th>3</th>\n",
       "      <td>Would you be able to give your car up? Having ...</td>\n",
       "      <td>100.303241</td>\n",
       "    </tr>\n",
       "    <tr>\n",
       "      <th>4</th>\n",
       "      <td>I think that students would benefit from learn...</td>\n",
       "      <td>113.299383</td>\n",
       "    </tr>\n",
       "    <tr>\n",
       "      <th>5</th>\n",
       "      <td>The seagoing cowboy program is the best thing ...</td>\n",
       "      <td>147.600000</td>\n",
       "    </tr>\n",
       "    <tr>\n",
       "      <th>6</th>\n",
       "      <td>Venus also known as the Earth's \"twin\" is simi...</td>\n",
       "      <td>165.216049</td>\n",
       "    </tr>\n",
       "    <tr>\n",
       "      <th>7</th>\n",
       "      <td>It is every student's dream to be able to loun...</td>\n",
       "      <td>214.481445</td>\n",
       "    </tr>\n",
       "    <tr>\n",
       "      <th>8</th>\n",
       "      <td>Cars have been an issue to our community for a...</td>\n",
       "      <td>68.442708</td>\n",
       "    </tr>\n",
       "    <tr>\n",
       "      <th>9</th>\n",
       "      <td>Phones &amp; Driving\\n\\nWaking up from a wonderful...</td>\n",
       "      <td>136.998615</td>\n",
       "    </tr>\n",
       "    <tr>\n",
       "      <th>10</th>\n",
       "      <td>Dear, Principal\\n\\nIf u change the school poli...</td>\n",
       "      <td>118.811634</td>\n",
       "    </tr>\n",
       "    <tr>\n",
       "      <th>11</th>\n",
       "      <td>Dear principal,\\n\\nI heard you are considering...</td>\n",
       "      <td>299.336735</td>\n",
       "    </tr>\n",
       "    <tr>\n",
       "      <th>12</th>\n",
       "      <td>\"So, if you're a NASA scientist, you should be...</td>\n",
       "      <td>273.280277</td>\n",
       "    </tr>\n",
       "    <tr>\n",
       "      <th>13</th>\n",
       "      <td>Dear, State Senoator I believe keeping the ele...</td>\n",
       "      <td>1045.805556</td>\n",
       "    </tr>\n",
       "    <tr>\n",
       "      <th>14</th>\n",
       "      <td>I disagree in having to make students particip...</td>\n",
       "      <td>185.755102</td>\n",
       "    </tr>\n",
       "    <tr>\n",
       "      <th>15</th>\n",
       "      <td>Dear TEACHER_NAME,\\n\\nI agree 100% with you. i...</td>\n",
       "      <td>258.494898</td>\n",
       "    </tr>\n",
       "    <tr>\n",
       "      <th>16</th>\n",
       "      <td>Dear Principal,\\n\\nOur school should have a co...</td>\n",
       "      <td>114.962500</td>\n",
       "    </tr>\n",
       "  </tbody>\n",
       "</table>\n",
       "</div>"
      ],
      "text/plain": [
       "                                                essay   burstiness\n",
       "0   Some people belive that the so called \"face\" o...   137.637755\n",
       "1   Driverless cars are exaclty what you would exp...   205.626667\n",
       "2   Dear: Principal\\n\\nI am arguing against the po...   384.107438\n",
       "3   Would you be able to give your car up? Having ...   100.303241\n",
       "4   I think that students would benefit from learn...   113.299383\n",
       "5   The seagoing cowboy program is the best thing ...   147.600000\n",
       "6   Venus also known as the Earth's \"twin\" is simi...   165.216049\n",
       "7   It is every student's dream to be able to loun...   214.481445\n",
       "8   Cars have been an issue to our community for a...    68.442708\n",
       "9   Phones & Driving\\n\\nWaking up from a wonderful...   136.998615\n",
       "10  Dear, Principal\\n\\nIf u change the school poli...   118.811634\n",
       "11  Dear principal,\\n\\nI heard you are considering...   299.336735\n",
       "12  \"So, if you're a NASA scientist, you should be...   273.280277\n",
       "13  Dear, State Senoator I believe keeping the ele...  1045.805556\n",
       "14  I disagree in having to make students particip...   185.755102\n",
       "15  Dear TEACHER_NAME,\\n\\nI agree 100% with you. i...   258.494898\n",
       "16  Dear Principal,\\n\\nOur school should have a co...   114.962500"
      ]
     },
     "execution_count": 60,
     "metadata": {},
     "output_type": "execute_result"
    }
   ],
   "source": [
    "df_burst = pd.DataFrame(data_burst, columns=['essay', 'burstiness'])\n",
    "df_burst"
   ]
  },
  {
   "cell_type": "markdown",
   "id": "b989fbc0",
   "metadata": {},
   "source": [
    "## Chat GPT essays - comparison\n",
    "\n",
    "In this section I import three chat GPT essays I have generated and I calculate their burstiness.\n"
   ]
  },
  {
   "cell_type": "code",
   "execution_count": 61,
   "id": "05fa37c6",
   "metadata": {},
   "outputs": [],
   "source": [
    "ai_text_list =[\n",
    "    \"Mars, the fourth rock from the sun, has always been the coolest planet to me. Its rusty-red hue and mysterious landscapes make it a captivating subject that sparks the curiosity of scientists and dreamers alike. As a high schooler, the allure of Mars goes beyond its scientific wonders – it's about the possibility of humans setting foot on its surface and the adventure that awaits. One of the most exciting things about Mars is the idea that it might have hosted life. Scientists have found evidence of ancient riverbeds and minerals that suggest there was once water on the planet. It's like a cosmic detective story, with rovers like Curiosity and Perseverance searching for clues about Mars' past. Imagine, just a few million years ago, there might have been Martian microbes partying on the red soil! The rovers are like our interplanetary explorers, sending us selfies and digging into the Martian soil. It's mind-blowing to think that, while we're sitting in classrooms, there are robots millions of miles away, uncovering the secrets of another planet. It's not just science fiction anymore; it's science reality! But the coolest part? The idea that we might go there ourselves one day. Elon Musk talks about colonizing Mars like it's the next big vacation spot. Sure, it's a bit far-fetched, but the thought of humans becoming Martians is mind-boggling. Imagine telling your grandkids, 'I was part of the generation that first stepped onto Mars!' That's the kind of history-making stuff that makes studying Mars in high school so exciting. In conclusion, Mars isn't just a distant planet; it's a potential future for humanity. Its mysteries, scientific discoveries, and the dream of human exploration make it the coolest topic to study. Who knows, maybe one day we'll be the ones leaving footprints on the red Martian soil. Mars isn't just a planet; it's an invitation to dream big and reach for the stars – or, in this case, the next planet over!\",\n",
    "    \"Electric cars are not just futuristic dreams anymore; they're the cool, eco-friendly rides that are transforming the way we think about transportation. As a high schooler, the buzz around electric cars has me excited about the future of driving and its impact on our environment. First off, let's talk about the planet. Electric cars are like superheroes for Mother Earth. They run on electricity, which means no tailpipe emissions, no smoke, and no harm to the air we breathe. It's like giving our planet a breath of fresh air. As teenagers who will inherit the Earth, it feels awesome to know that we can contribute to a greener future simply by driving an electric car. Charging an electric car is as easy as plugging in your phone. No more waiting in line at gas stations, and no more worrying about those unpredictable gas prices. It's a game-changer for our wallets and our schedules. Plus, some electric cars are so sleek and high-tech; they make regular cars look like they're from the Stone Age. But here's the best part – speed! Electric cars are like the race cars of the future. They can go from zero to sixty in no time, leaving traditional cars in the dust. It's not just about being eco-friendly; it's about looking cool while doing it. Sure, there are some challenges, like finding charging stations everywhere and the cost of buying an electric car upfront. But think about it – every superhero had to face some challenges before they became legends. The more we support electric cars, the more accessible and affordable they'll become. It's like being part of a movement that's steering the world towards a cleaner, brighter future. In conclusion, electric cars aren't just about getting from point A to B; they're about sparking a positive change. As high schoolers, we have the power to shape the future, and supporting electric cars is one way we can drive towards a planet-friendly, stylish tomorrow. So, let's buckle up, plug in, and ride into a greener, cooler future!\",\n",
    "    \"Distance learning – it's a term that became part of our everyday vocabulary faster than you can say 'online class.' As a high school student navigating the world of virtual education, distance learning has been a rollercoaster of challenges and unexpected perks. One of the coolest things about distance learning is the flexibility it offers. No more racing against the clock to catch the bus or stressing about being late for first period. With distance learning, we have the freedom to roll out of bed, grab our laptops, and dive into class from the comfort of our homes. It's like having school in our pajamas – a dream come true for every teenager. However, it's not all sunshine and rainbows. Staring at a screen for hours can feel like a never-ending Netflix binge, minus the popcorn. The lack of face-to-face interaction with teachers and classmates makes it challenging to stay engaged. The struggle to resist the temptation of checking social media or getting distracted by the latest YouTube video is real. It's a constant battle between staying focused and the allure of the internet. Another hurdle is the loneliness. High school is supposed to be about building friendships, sharing inside jokes, and surviving the ups and downs together. Distance learning, with its virtual classrooms and muted microphones, can feel isolating. It's like we're missing out on the high school experience – the camaraderie that comes with navigating the maze of lockers and crowded hallways. Yet, in the midst of these challenges, distance learning has taught us resilience. We've become tech-savvy problem solvers, troubleshooting internet issues and mastering the art of the virtual handshake. It's a crash course in adaptability, preparing us for a future where digital skills are non-negotiable. In conclusion, distance learning is a double-edged sword. While it provides unprecedented flexibility, it comes with its share of challenges – the battle against distractions, the yearning for real human connection, and the occasional Wi-Fi meltdown. As high schoolers, we're not just students; we're pioneers navigating the uncharted territory of the digital classroom, learning lessons that go beyond textbooks and assignments. Whether we love it or loathe it, distance learning is shaping us into resilient, tech-savvy individuals ready to conquer the challenges of the digital age.\"\n",
    "    ]"
   ]
  },
  {
   "cell_type": "code",
   "execution_count": 62,
   "id": "2461cf8f",
   "metadata": {},
   "outputs": [
    {
     "data": {
      "text/plain": [
       "\"Distance learning – it's a term that became part of our everyday vocabulary faster than you can say 'online class.' As a high school student navigating the world of virtual education, distance learning has been a rollercoaster of challenges and unexpected perks. One of the coolest things about distance learning is the flexibility it offers. No more racing against the clock to catch the bus or stressing about being late for first period. With distance learning, we have the freedom to roll out of bed, grab our laptops, and dive into class from the comfort of our homes. It's like having school in our pajamas – a dream come true for every teenager. However, it's not all sunshine and rainbows. Staring at a screen for hours can feel like a never-ending Netflix binge, minus the popcorn. The lack of face-to-face interaction with teachers and classmates makes it challenging to stay engaged. The struggle to resist the temptation of checking social media or getting distracted by the latest YouTube video is real. It's a constant battle between staying focused and the allure of the internet. Another hurdle is the loneliness. High school is supposed to be about building friendships, sharing inside jokes, and surviving the ups and downs together. Distance learning, with its virtual classrooms and muted microphones, can feel isolating. It's like we're missing out on the high school experience – the camaraderie that comes with navigating the maze of lockers and crowded hallways. Yet, in the midst of these challenges, distance learning has taught us resilience. We've become tech-savvy problem solvers, troubleshooting internet issues and mastering the art of the virtual handshake. It's a crash course in adaptability, preparing us for a future where digital skills are non-negotiable. In conclusion, distance learning is a double-edged sword. While it provides unprecedented flexibility, it comes with its share of challenges – the battle against distractions, the yearning for real human connection, and the occasional Wi-Fi meltdown. As high schoolers, we're not just students; we're pioneers navigating the uncharted territory of the digital classroom, learning lessons that go beyond textbooks and assignments. Whether we love it or loathe it, distance learning is shaping us into resilient, tech-savvy individuals ready to conquer the challenges of the digital age.\""
      ]
     },
     "execution_count": 62,
     "metadata": {},
     "output_type": "execute_result"
    }
   ],
   "source": [
    "ai_text_list[2]"
   ]
  },
  {
   "cell_type": "markdown",
   "id": "c0badc3d",
   "metadata": {},
   "source": [
    "We now create a list \"ai_burst\" containing the burstiness scores of the three essays above. We print the list along with the average value."
   ]
  },
  {
   "cell_type": "code",
   "execution_count": 63,
   "id": "098ab25b",
   "metadata": {},
   "outputs": [
    {
     "name": "stdout",
     "output_type": "stream",
     "text": [
      "[73.03, 78.91942148760332, 83.71280991735539]\n",
      "78.55407713498624\n"
     ]
    }
   ],
   "source": [
    "ai_burst=[]\n",
    "for essay_index in range(0,len(ai_text_list)): #loop through essays\n",
    "    burstiness = length_variance(ai_text_list[essay_index])\n",
    "    ai_burst.append(burstiness)\n",
    "print(ai_burst)\n",
    "print(sum(ai_burst)/3)"
   ]
  },
  {
   "cell_type": "markdown",
   "id": "327229f5",
   "metadata": {},
   "source": [
    "The average burstiness of human generated essays is calculated below."
   ]
  },
  {
   "cell_type": "code",
   "execution_count": 65,
   "id": "0184efd3",
   "metadata": {},
   "outputs": [
    {
     "name": "stdout",
     "output_type": "stream",
     "text": [
      "233.53882368494692\n"
     ]
    }
   ],
   "source": [
    "print(df_burst['burstiness'].mean())"
   ]
  }
 ],
 "metadata": {
  "kernelspec": {
   "display_name": "Python 3 (ipykernel)",
   "language": "python",
   "name": "python3"
  },
  "language_info": {
   "codemirror_mode": {
    "name": "ipython",
    "version": 3
   },
   "file_extension": ".py",
   "mimetype": "text/x-python",
   "name": "python",
   "nbconvert_exporter": "python",
   "pygments_lexer": "ipython3",
   "version": "3.11.4"
  }
 },
 "nbformat": 4,
 "nbformat_minor": 5
}
